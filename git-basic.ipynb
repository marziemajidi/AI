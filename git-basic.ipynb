{
  "nbformat": 4,
  "nbformat_minor": 0,
  "metadata": {
    "colab": {
      "provenance": [],
      "authorship_tag": "ABX9TyM2B8Dg8QjspnjNtnAef2QM",
      "include_colab_link": true
    },
    "kernelspec": {
      "name": "python3",
      "display_name": "Python 3"
    },
    "language_info": {
      "name": "python"
    }
  },
  "cells": [
    {
      "cell_type": "markdown",
      "metadata": {
        "id": "view-in-github",
        "colab_type": "text"
      },
      "source": [
        "<a href=\"https://colab.research.google.com/github/marziemajidi/AI/blob/main/git-basic.ipynb\" target=\"_parent\"><img src=\"https://colab.research.google.com/assets/colab-badge.svg\" alt=\"Open In Colab\"/></a>"
      ]
    },
    {
      "cell_type": "code",
      "execution_count": null,
      "metadata": {
        "id": "UcTM37pCNQoo"
      },
      "outputs": [],
      "source": [
        ". تنظیمات اولیه Git"
      ]
    },
    {
      "cell_type": "code",
      "source": [
        "# تنظیم نام کاربری\n",
        "git config --global user.name \"Your Name\"\n",
        "\n",
        "# تنظیم ایمیل\n",
        "git config --global user.email \"your.email@example.com\"\n",
        "\n",
        "# بررسی تنظیمات\n",
        "git config --list\n"
      ],
      "metadata": {
        "id": "Kb4qJbMjNRu9"
      },
      "execution_count": null,
      "outputs": []
    },
    {
      "cell_type": "markdown",
      "source": [
        "2. شروع یک مخزن (Repository)"
      ],
      "metadata": {
        "id": "6P_RuoA_NTzB"
      }
    },
    {
      "cell_type": "code",
      "source": [
        "# ایجاد یک مخزن Git در یک پوشه\n",
        "git init\n",
        "\n",
        "# کلون کردن یک مخزن از یک URL\n",
        "git clone <repository-url>\n"
      ],
      "metadata": {
        "id": "iBEypChNNV3q"
      },
      "execution_count": null,
      "outputs": []
    },
    {
      "cell_type": "markdown",
      "source": [
        "3. بررسی وضعیت پروژه"
      ],
      "metadata": {
        "id": "OudJ_S-zNXSE"
      }
    },
    {
      "cell_type": "code",
      "source": [
        "# نمایش وضعیت فایل‌ها در مخزن\n",
        "git status\n",
        "\n",
        "# مشاهده تغییرات فایل‌ها\n",
        "git diff\n"
      ],
      "metadata": {
        "id": "r6cr5ikONehS"
      },
      "execution_count": null,
      "outputs": []
    },
    {
      "cell_type": "markdown",
      "source": [
        "4. اضافه کردن و ذخیره تغییرات"
      ],
      "metadata": {
        "id": "NjDx924HNg0J"
      }
    },
    {
      "cell_type": "code",
      "source": [
        "# اضافه کردن یک فایل خاص به مرحله آماده‌سازی (Staging Area)\n",
        "git add <file>\n",
        "\n",
        "# اضافه کردن تمام فایل‌ها به مرحله آماده‌سازی\n",
        "git add .\n",
        "\n",
        "# ذخیره تغییرات در مخزن (Commit)\n",
        "git commit -m \"Your commit message\"\n"
      ],
      "metadata": {
        "id": "0daAQKVNNjPN"
      },
      "execution_count": null,
      "outputs": []
    },
    {
      "cell_type": "markdown",
      "source": [
        "5. مشاهده تاریخچه تغییرات"
      ],
      "metadata": {
        "id": "h7wnldAcNkwP"
      }
    },
    {
      "cell_type": "code",
      "source": [
        "# مشاهده تاریخچه کامیت‌ها\n",
        "git log\n",
        "\n",
        "# نمایش تاریخچه به صورت خلاصه\n",
        "git log --oneline\n"
      ],
      "metadata": {
        "id": "YcBxVZazNnDH"
      },
      "execution_count": null,
      "outputs": []
    },
    {
      "cell_type": "markdown",
      "source": [
        "6. کار با شاخه‌ها (Branches)"
      ],
      "metadata": {
        "id": "ftBiRKTkNo2K"
      }
    },
    {
      "cell_type": "code",
      "source": [
        "# ایجاد یک شاخه جدید\n",
        "git branch <branch-name>\n",
        "\n",
        "# مشاهده لیست شاخه‌ها\n",
        "git branch\n",
        "\n",
        "# جابه‌جایی به یک شاخه\n",
        "git checkout <branch-name>\n",
        "\n",
        "# ایجاد و جابه‌جایی به شاخه جدید\n",
        "git checkout -b <branch-name>\n",
        "\n",
        "# حذف یک شاخه\n",
        "git branch -d <branch-name>\n"
      ],
      "metadata": {
        "id": "FX7d8MbyNq2k"
      },
      "execution_count": null,
      "outputs": []
    },
    {
      "cell_type": "markdown",
      "source": [
        "7. ادغام شاخه‌ها (Merging)"
      ],
      "metadata": {
        "id": "WCxEZtCINvK9"
      }
    },
    {
      "cell_type": "code",
      "source": [
        "# ادغام یک شاخه به شاخه فعلی\n",
        "git merge <branch-name>\n"
      ],
      "metadata": {
        "id": "AjkKS7Y-Nzc0"
      },
      "execution_count": null,
      "outputs": []
    },
    {
      "cell_type": "markdown",
      "source": [
        "8. کار با مخازن راه‌دور (Remote Repositories)"
      ],
      "metadata": {
        "id": "OVXLtGzON2SK"
      }
    },
    {
      "cell_type": "code",
      "source": [
        "# اضافه کردن یک مخزن راه‌دور\n",
        "git remote add origin <repository-url>\n",
        "\n",
        "# مشاهده مخازن راه‌دور\n",
        "git remote -v\n",
        "\n",
        "# ارسال تغییرات به مخزن راه‌دور\n",
        "git push origin <branch-name>\n",
        "\n",
        "# دریافت تغییرات از مخزن راه‌دور\n",
        "git pull origin <branch-name>\n",
        "\n",
        "# کلون کردن یک مخزن (همراه با دریافت فایل‌ها)\n",
        "git clone <repository-url>\n"
      ],
      "metadata": {
        "id": "01SCb-7UN4Cr"
      },
      "execution_count": null,
      "outputs": []
    },
    {
      "cell_type": "markdown",
      "source": [
        "9. بازیابی تغییرات"
      ],
      "metadata": {
        "id": "8U70zU2yN-Zf"
      }
    },
    {
      "cell_type": "code",
      "source": [
        "# بازگرداندن یک فایل به وضعیت قبلی\n",
        "git checkout -- <file>\n",
        "\n",
        "# لغو تغییرات مرحله آماده‌سازی (Unstage)\n",
        "git reset <file>\n",
        "\n",
        "# حذف آخرین کامیت (بدون حذف تغییرات)\n",
        "git reset --soft HEAD~1\n"
      ],
      "metadata": {
        "id": "ABEOVaxvN_E5"
      },
      "execution_count": null,
      "outputs": []
    },
    {
      "cell_type": "markdown",
      "source": [
        "10. کار با برچسب‌ها (Tags)"
      ],
      "metadata": {
        "id": "U26fB6QTOAYS"
      }
    },
    {
      "cell_type": "code",
      "source": [
        "# ایجاد یک برچسب جدید\n",
        "git tag <tag-name>\n",
        "\n",
        "# مشاهده لیست برچسب‌ها\n",
        "git tag\n",
        "\n",
        "# ارسال برچسب‌ها به مخزن راه‌دور\n",
        "git push origin --tags\n"
      ],
      "metadata": {
        "id": "NdVfZhReOCO0"
      },
      "execution_count": null,
      "outputs": []
    },
    {
      "cell_type": "markdown",
      "source": [
        "11. پاک کردن و تمیز کردن فایل‌ها"
      ],
      "metadata": {
        "id": "da84HPssOHMB"
      }
    },
    {
      "cell_type": "code",
      "source": [
        "# حذف فایل از مخزن (بدون حذف از دیسک)\n",
        "git rm --cached <file>\n",
        "\n",
        "# حذف فایل از مخزن و دیسک\n",
        "git rm <file>\n",
        "\n",
        "# تمیز کردن فایل‌های غیرضروری یا کش\n",
        "git clean -f\n"
      ],
      "metadata": {
        "id": "uScRwY9pOHtu"
      },
      "execution_count": null,
      "outputs": []
    },
    {
      "cell_type": "markdown",
      "source": [
        "12. نکات و ترفندها"
      ],
      "metadata": {
        "id": "ZjQbyPOdOJWG"
      }
    },
    {
      "cell_type": "code",
      "source": [
        "# مشاهده تغییرات یک فایل خاص\n",
        "git diff <file>\n",
        "\n",
        "# تغییر پیام آخرین کامیت\n",
        "git commit --amend -m \"Updated commit message\"\n",
        "\n",
        "# نمایش گراف شاخه‌ها\n",
        "git log --oneline --graph --all\n",
        "\n",
        "# ذخیره موقت تغییرات\n",
        "git stash\n",
        "\n",
        "# بازگرداندن تغییرات ذخیره‌شده\n",
        "git stash pop\n"
      ],
      "metadata": {
        "id": "xNcFjmg2OMd7"
      },
      "execution_count": null,
      "outputs": []
    }
  ]
}