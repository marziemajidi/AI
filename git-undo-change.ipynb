{
  "nbformat": 4,
  "nbformat_minor": 0,
  "metadata": {
    "colab": {
      "provenance": [],
      "authorship_tag": "ABX9TyMIqDusAo3Qj2SF/lUe32j4",
      "include_colab_link": true
    },
    "kernelspec": {
      "name": "python3",
      "display_name": "Python 3"
    },
    "language_info": {
      "name": "python"
    }
  },
  "cells": [
    {
      "cell_type": "markdown",
      "metadata": {
        "id": "view-in-github",
        "colab_type": "text"
      },
      "source": [
        "<a href=\"https://colab.research.google.com/github/marziemajidi/AI/blob/main/git-undo-change.ipynb\" target=\"_parent\"><img src=\"https://colab.research.google.com/assets/colab-badge.svg\" alt=\"Open In Colab\"/></a>"
      ]
    },
    {
      "cell_type": "code",
      "execution_count": null,
      "metadata": {
        "id": "S9iGiyRPRI-B"
      },
      "outputs": [],
      "source": [
        "بسته به نوع تغییری که انجام داده‌اید، روش‌های مختلفی برای بازگرداندن پروژه به حالت قبل وجود دارد. در اینجا چند حالت رایج و روش حل آن‌ها توضیح داده شده است:"
      ]
    },
    {
      "cell_type": "code",
      "source": [
        ". فایل را تغییر دادید اما هنوز git add نکرده‌اید:\n",
        "\n",
        "اگر فایل را ویرایش کرده‌اید ولی تغییرات را به مرحله آماده‌سازی (staging area) اضافه نکرده‌اید، می‌توانید فایل را به حالت آخرین کامیت بازگردانید."
      ],
      "metadata": {
        "id": "bxyjWzUrXdoh"
      },
      "execution_count": null,
      "outputs": []
    },
    {
      "cell_type": "markdown",
      "source": [
        "git checkout -- index.php\n"
      ],
      "metadata": {
        "id": "Asf3vbSZXfgG"
      }
    },
    {
      "cell_type": "markdown",
      "source": [
        "اگر فایل را به staging area اضافه کرده‌اید اما هنوز آن را کامیت نکرده‌اید، می‌توانید تغییرات را از مرحله آماده‌سازی حذف کنید."
      ],
      "metadata": {
        "id": "jGhdMlKdX_zr"
      }
    },
    {
      "cell_type": "code",
      "source": [
        "git reset HEAD index.php\n"
      ],
      "metadata": {
        "id": "L0XpCdunYFQ-"
      },
      "execution_count": null,
      "outputs": []
    },
    {
      "cell_type": "markdown",
      "source": [
        "سپس می‌توانید فایل را به حالت قبلی بازگردانید:"
      ],
      "metadata": {
        "id": "8rqi75SyYMr_"
      }
    },
    {
      "cell_type": "code",
      "source": [
        "git checkout -- index.php\n"
      ],
      "metadata": {
        "id": "Phu--aw5YNV9"
      },
      "execution_count": null,
      "outputs": []
    },
    {
      "cell_type": "markdown",
      "source": [
        "3. تغییرات را commit کرده‌اید و می‌خواهید آن را برگردانید:"
      ],
      "metadata": {
        "id": "QfLNoRMEYOqt"
      }
    },
    {
      "cell_type": "markdown",
      "source": [
        "الف) آخرین کامیت اشتباه بوده است:\n",
        "\n",
        "اگر آخرین کامیت اشتباه بوده و می‌خواهید آن را حذف کنید، ولی تغییرات را نگه دارید:"
      ],
      "metadata": {
        "id": "Bnm4oBvHYRQf"
      }
    },
    {
      "cell_type": "markdown",
      "source": [
        "git reset --soft HEAD~1\n"
      ],
      "metadata": {
        "id": "d6qSkpbxYTOz"
      }
    },
    {
      "cell_type": "markdown",
      "source": [
        "اگر می‌خواهید تغییرات را کاملاً حذف کنید:"
      ],
      "metadata": {
        "id": "XuWqyvqvYWnR"
      }
    },
    {
      "cell_type": "code",
      "source": [
        "git reset --hard HEAD~1\n"
      ],
      "metadata": {
        "id": "qEyJPMRrYYae"
      },
      "execution_count": null,
      "outputs": []
    },
    {
      "cell_type": "markdown",
      "source": [
        "ب) کامیتی در گذشته اشتباه بوده است:\n",
        "\n",
        "برای بازگرداندن به یک کامیت مشخص (بدون حذف تاریخچه):"
      ],
      "metadata": {
        "id": "F7oz-VCbYaPv"
      }
    },
    {
      "cell_type": "markdown",
      "source": [],
      "metadata": {
        "id": "gqEqBKFSYegg"
      }
    },
    {
      "cell_type": "code",
      "source": [
        "git revert a1b2c3d4\n"
      ],
      "metadata": {
        "id": "ILhfBWbTYezb"
      },
      "execution_count": null,
      "outputs": []
    },
    {
      "cell_type": "markdown",
      "source": [
        "4. تمام تغییرات (مرحله آماده‌سازی و غیره) را حذف کنید و به آخرین کامیت برگردید:\n",
        "\n",
        "اگر می‌خواهید همه تغییرات، چه در working directory و چه در staging area، حذف شوند و پروژه به آخرین کامیت بازگردد:"
      ],
      "metadata": {
        "id": "yVdWpYyZYgcv"
      }
    },
    {
      "cell_type": "code",
      "source": [
        "git reset --hard HEAD\n"
      ],
      "metadata": {
        "id": "iKXdDbsrYkwH"
      },
      "execution_count": null,
      "outputs": []
    },
    {
      "cell_type": "markdown",
      "source": [
        "5. تغییراتی در مخزن راه‌دور (Remote Repository) را حذف کنید:\n",
        "\n",
        "اگر تغییرات را به مخزن راه‌دور (مثلاً GitHub) پوش کرده‌اید و می‌خواهید آن‌ها را حذف کنید:"
      ],
      "metadata": {
        "id": "XF2HkLVDYpks"
      }
    },
    {
      "cell_type": "code",
      "source": [
        "git reset --hard <commit-hash>\n",
        "git push origin <branch-name> --force\n"
      ],
      "metadata": {
        "id": "JHx7wsj4YtYZ"
      },
      "execution_count": null,
      "outputs": []
    },
    {
      "cell_type": "markdown",
      "source": [
        "توجه مهم:\n",
        "\n",
        "    دستور git reset --hard تمام تغییرات شما را بدون بازگشت حذف می‌کند. با احتیاط استفاده کنید.\n",
        "    اگر مطمئن نیستید، قبل از انجام دستورات، تغییرات خود را با git stash ذخیره کنید."
      ],
      "metadata": {
        "id": "4MQVHzjuYzXa"
      }
    }
  ]
}